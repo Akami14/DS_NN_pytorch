{
 "cells": [
  {
   "cell_type": "markdown",
   "id": "xik8TT5X90xH",
   "metadata": {
    "id": "xik8TT5X90xH"
   },
   "source": [
    "## Обучите CNN на CIFAR-100 через дообучение ImageNet Resnet-50."
   ]
  },
  {
   "cell_type": "code",
   "execution_count": 1,
   "id": "073f649b",
   "metadata": {
    "id": "073f649b"
   },
   "outputs": [],
   "source": [
    "import torch\n",
    "import numpy as np\n",
    "import torch.nn.functional as F\n",
    "import torchvision\n",
    "import torchvision.transforms as transforms\n",
    "\n",
    "from torch import nn\n",
    "from torch import optim\n",
    "from sklearn.model_selection import train_test_split\n",
    "import matplotlib.pyplot as plt\n",
    "\n",
    "from torchsummary import summary\n"
   ]
  },
  {
   "cell_type": "code",
   "execution_count": 2,
   "id": "61f763e5",
   "metadata": {
    "colab": {
     "base_uri": "https://localhost:8080/",
     "height": 35
    },
    "id": "61f763e5",
    "outputId": "2f2656f9-9ddf-4af8-8a45-cacc882a28cf"
   },
   "outputs": [
    {
     "data": {
      "application/vnd.google.colaboratory.intrinsic+json": {
       "type": "string"
      },
      "text/plain": [
       "'cuda'"
      ]
     },
     "execution_count": 2,
     "metadata": {},
     "output_type": "execute_result"
    }
   ],
   "source": [
    "device = 'cuda' if torch.cuda.is_available() else 'cpu'\n",
    "device"
   ]
  },
  {
   "cell_type": "code",
   "execution_count": 3,
   "id": "021faa04",
   "metadata": {
    "id": "021faa04"
   },
   "outputs": [],
   "source": [
    "def train_valid_split(Xt):\n",
    "    X_train, X_test = train_test_split(Xt, test_size=0.05, random_state=13)\n",
    "    return X_train, X_test\n"
   ]
  },
  {
   "cell_type": "markdown",
   "id": "7MgnWIug9-jK",
   "metadata": {
    "id": "7MgnWIug9-jK"
   },
   "source": [
    "## Подача датасета"
   ]
  },
  {
   "cell_type": "code",
   "execution_count": 4,
   "id": "2012a136",
   "metadata": {
    "colab": {
     "base_uri": "https://localhost:8080/"
    },
    "id": "2012a136",
    "outputId": "11d494a9-7fdd-40b8-b73f-08c12f753cae",
    "scrolled": true
   },
   "outputs": [
    {
     "name": "stdout",
     "output_type": "stream",
     "text": [
      "Downloading https://www.cs.toronto.edu/~kriz/cifar-100-python.tar.gz to data/cifar-100-python.tar.gz\n"
     ]
    },
    {
     "name": "stderr",
     "output_type": "stream",
     "text": [
      "100%|██████████| 169001437/169001437 [00:04<00:00, 41973791.63it/s]\n"
     ]
    },
    {
     "name": "stdout",
     "output_type": "stream",
     "text": [
      "Extracting data/cifar-100-python.tar.gz to data/\n"
     ]
    }
   ],
   "source": [
    "dataset = torchvision.datasets.CIFAR100(root='data/', train=True, download=True)\n",
    "\n",
    "\n",
    "class MyOwnCifar(torch.utils.data.Dataset):\n",
    "\n",
    "    def __init__(self, init_dataset, transform=None):\n",
    "        self._base_dataset = init_dataset\n",
    "        self.transform = transform\n",
    "\n",
    "    def __len__(self):\n",
    "        return len(self._base_dataset)\n",
    "\n",
    "    def __getitem__(self, idx):\n",
    "        img = self._base_dataset[idx][0]\n",
    "        if self.transform is not None:\n",
    "            img = self.transform(img)\n",
    "        return img, self._base_dataset[idx][1]"
   ]
  },
  {
   "cell_type": "code",
   "execution_count": 5,
   "id": "3d863786",
   "metadata": {
    "id": "3d863786"
   },
   "outputs": [],
   "source": [
    "trans_actions = transforms.Compose([torchvision.transforms.Resize(256),\n",
    "                                    transforms.RandomCrop(224, padding=4),\n",
    "                                    transforms.ToTensor(),\n",
    "                                    transforms.Normalize(mean=[0.485, 0.456, 0.406],\n",
    "                                                         std=[0.229, 0.224, 0.225])])\n",
    "#mean=[0.485, 0.456, 0.406], std=[0.229, 0.224, 0.225]\n",
    "valid_transforms = transforms.Compose([transforms.ToTensor(),\n",
    "                                       transforms.Normalize(mean=[0.485, 0.456, 0.406],\n",
    "                                                         std=[0.229, 0.224, 0.225])])\n",
    "\n",
    "train_dataset, valid_dataset = train_valid_split(dataset)\n",
    "\n",
    "train_dataset = MyOwnCifar(train_dataset, trans_actions)\n",
    "valid_dataset = MyOwnCifar(valid_dataset, valid_transforms)\n",
    "\n",
    "train_loader = torch.utils.data.DataLoader(train_dataset,\n",
    "                          batch_size=30,\n",
    "                          shuffle=True,\n",
    "                          num_workers=1)\n",
    "\n",
    "valid_loader = torch.utils.data.DataLoader(valid_dataset,\n",
    "                          batch_size=30,\n",
    "                          shuffle=False,\n",
    "                          num_workers=1)"
   ]
  },
  {
   "cell_type": "markdown",
   "id": "2eEH09jV-GbN",
   "metadata": {
    "id": "2eEH09jV-GbN"
   },
   "source": [
    "## Импорт модели и ее модификации для класификации в 100 класов"
   ]
  },
  {
   "cell_type": "code",
   "execution_count": 6,
   "id": "8kG2mluP_Rwy",
   "metadata": {
    "id": "8kG2mluP_Rwy"
   },
   "outputs": [],
   "source": [
    "from torchvision import models"
   ]
  },
  {
   "cell_type": "code",
   "execution_count": 7,
   "id": "1-ZeydDKVkOm",
   "metadata": {
    "colab": {
     "base_uri": "https://localhost:8080/"
    },
    "id": "1-ZeydDKVkOm",
    "outputId": "a4bd128a-6af3-4790-cb9f-96ae34874c5a"
   },
   "outputs": [
    {
     "name": "stderr",
     "output_type": "stream",
     "text": [
      "/usr/local/lib/python3.10/dist-packages/torchvision/models/_utils.py:208: UserWarning: The parameter 'pretrained' is deprecated since 0.13 and may be removed in the future, please use 'weights' instead.\n",
      "  warnings.warn(\n",
      "/usr/local/lib/python3.10/dist-packages/torchvision/models/_utils.py:223: UserWarning: Arguments other than a weight enum or `None` for 'weights' are deprecated since 0.13 and may be removed in the future. The current behavior is equivalent to passing `weights=EfficientNet_B1_Weights.IMAGENET1K_V1`. You can also use `weights=EfficientNet_B1_Weights.DEFAULT` to get the most up-to-date weights.\n",
      "  warnings.warn(msg)\n",
      "Downloading: \"https://download.pytorch.org/models/efficientnet_b1_rwightman-bac287d4.pth\" to /root/.cache/torch/hub/checkpoints/efficientnet_b1_rwightman-bac287d4.pth\n",
      "100%|██████████| 30.1M/30.1M [00:00<00:00, 59.0MB/s]\n"
     ]
    }
   ],
   "source": [
    "ef1 = models.efficientnet_b1(pretrained=True)\n",
    "ef1_2 = torch.nn.Sequential(*(list(ef1.children())[:-1]))\n",
    "ef1_2.fc = nn.Sequential(nn.Flatten(), nn.Linear(1280, 100))\n",
    "ef1_2 = ef1_2.to(device)"
   ]
  },
  {
   "cell_type": "code",
   "execution_count": 8,
   "id": "4ayzxKH6apS1",
   "metadata": {
    "colab": {
     "base_uri": "https://localhost:8080/"
    },
    "id": "4ayzxKH6apS1",
    "outputId": "b9af7b65-8263-4f7a-afeb-1773af0821b9",
    "scrolled": true
   },
   "outputs": [
    {
     "name": "stdout",
     "output_type": "stream",
     "text": [
      "----------------------------------------------------------------\n",
      "        Layer (type)               Output Shape         Param #\n",
      "================================================================\n",
      "            Conv2d-1         [-1, 32, 112, 112]             864\n",
      "       BatchNorm2d-2         [-1, 32, 112, 112]              64\n",
      "              SiLU-3         [-1, 32, 112, 112]               0\n",
      "            Conv2d-4         [-1, 32, 112, 112]             288\n",
      "       BatchNorm2d-5         [-1, 32, 112, 112]              64\n",
      "              SiLU-6         [-1, 32, 112, 112]               0\n",
      " AdaptiveAvgPool2d-7             [-1, 32, 1, 1]               0\n",
      "            Conv2d-8              [-1, 8, 1, 1]             264\n",
      "              SiLU-9              [-1, 8, 1, 1]               0\n",
      "           Conv2d-10             [-1, 32, 1, 1]             288\n",
      "          Sigmoid-11             [-1, 32, 1, 1]               0\n",
      "SqueezeExcitation-12         [-1, 32, 112, 112]               0\n",
      "           Conv2d-13         [-1, 16, 112, 112]             512\n",
      "      BatchNorm2d-14         [-1, 16, 112, 112]              32\n",
      "           MBConv-15         [-1, 16, 112, 112]               0\n",
      "           Conv2d-16         [-1, 16, 112, 112]             144\n",
      "      BatchNorm2d-17         [-1, 16, 112, 112]              32\n",
      "             SiLU-18         [-1, 16, 112, 112]               0\n",
      "AdaptiveAvgPool2d-19             [-1, 16, 1, 1]               0\n",
      "           Conv2d-20              [-1, 4, 1, 1]              68\n",
      "             SiLU-21              [-1, 4, 1, 1]               0\n",
      "           Conv2d-22             [-1, 16, 1, 1]              80\n",
      "          Sigmoid-23             [-1, 16, 1, 1]               0\n",
      "SqueezeExcitation-24         [-1, 16, 112, 112]               0\n",
      "           Conv2d-25         [-1, 16, 112, 112]             256\n",
      "      BatchNorm2d-26         [-1, 16, 112, 112]              32\n",
      "  StochasticDepth-27         [-1, 16, 112, 112]               0\n",
      "           MBConv-28         [-1, 16, 112, 112]               0\n",
      "           Conv2d-29         [-1, 96, 112, 112]           1,536\n",
      "      BatchNorm2d-30         [-1, 96, 112, 112]             192\n",
      "             SiLU-31         [-1, 96, 112, 112]               0\n",
      "           Conv2d-32           [-1, 96, 56, 56]             864\n",
      "      BatchNorm2d-33           [-1, 96, 56, 56]             192\n",
      "             SiLU-34           [-1, 96, 56, 56]               0\n",
      "AdaptiveAvgPool2d-35             [-1, 96, 1, 1]               0\n",
      "           Conv2d-36              [-1, 4, 1, 1]             388\n",
      "             SiLU-37              [-1, 4, 1, 1]               0\n",
      "           Conv2d-38             [-1, 96, 1, 1]             480\n",
      "          Sigmoid-39             [-1, 96, 1, 1]               0\n",
      "SqueezeExcitation-40           [-1, 96, 56, 56]               0\n",
      "           Conv2d-41           [-1, 24, 56, 56]           2,304\n",
      "      BatchNorm2d-42           [-1, 24, 56, 56]              48\n",
      "           MBConv-43           [-1, 24, 56, 56]               0\n",
      "           Conv2d-44          [-1, 144, 56, 56]           3,456\n",
      "      BatchNorm2d-45          [-1, 144, 56, 56]             288\n",
      "             SiLU-46          [-1, 144, 56, 56]               0\n",
      "           Conv2d-47          [-1, 144, 56, 56]           1,296\n",
      "      BatchNorm2d-48          [-1, 144, 56, 56]             288\n",
      "             SiLU-49          [-1, 144, 56, 56]               0\n",
      "AdaptiveAvgPool2d-50            [-1, 144, 1, 1]               0\n",
      "           Conv2d-51              [-1, 6, 1, 1]             870\n",
      "             SiLU-52              [-1, 6, 1, 1]               0\n",
      "           Conv2d-53            [-1, 144, 1, 1]           1,008\n",
      "          Sigmoid-54            [-1, 144, 1, 1]               0\n",
      "SqueezeExcitation-55          [-1, 144, 56, 56]               0\n",
      "           Conv2d-56           [-1, 24, 56, 56]           3,456\n",
      "      BatchNorm2d-57           [-1, 24, 56, 56]              48\n",
      "  StochasticDepth-58           [-1, 24, 56, 56]               0\n",
      "           MBConv-59           [-1, 24, 56, 56]               0\n",
      "           Conv2d-60          [-1, 144, 56, 56]           3,456\n",
      "      BatchNorm2d-61          [-1, 144, 56, 56]             288\n",
      "             SiLU-62          [-1, 144, 56, 56]               0\n",
      "           Conv2d-63          [-1, 144, 56, 56]           1,296\n",
      "      BatchNorm2d-64          [-1, 144, 56, 56]             288\n",
      "             SiLU-65          [-1, 144, 56, 56]               0\n",
      "AdaptiveAvgPool2d-66            [-1, 144, 1, 1]               0\n",
      "           Conv2d-67              [-1, 6, 1, 1]             870\n",
      "             SiLU-68              [-1, 6, 1, 1]               0\n",
      "           Conv2d-69            [-1, 144, 1, 1]           1,008\n",
      "          Sigmoid-70            [-1, 144, 1, 1]               0\n",
      "SqueezeExcitation-71          [-1, 144, 56, 56]               0\n",
      "           Conv2d-72           [-1, 24, 56, 56]           3,456\n",
      "      BatchNorm2d-73           [-1, 24, 56, 56]              48\n",
      "  StochasticDepth-74           [-1, 24, 56, 56]               0\n",
      "           MBConv-75           [-1, 24, 56, 56]               0\n",
      "           Conv2d-76          [-1, 144, 56, 56]           3,456\n",
      "      BatchNorm2d-77          [-1, 144, 56, 56]             288\n",
      "             SiLU-78          [-1, 144, 56, 56]               0\n",
      "           Conv2d-79          [-1, 144, 28, 28]           3,600\n",
      "      BatchNorm2d-80          [-1, 144, 28, 28]             288\n",
      "             SiLU-81          [-1, 144, 28, 28]               0\n",
      "AdaptiveAvgPool2d-82            [-1, 144, 1, 1]               0\n",
      "           Conv2d-83              [-1, 6, 1, 1]             870\n",
      "             SiLU-84              [-1, 6, 1, 1]               0\n",
      "           Conv2d-85            [-1, 144, 1, 1]           1,008\n",
      "          Sigmoid-86            [-1, 144, 1, 1]               0\n",
      "SqueezeExcitation-87          [-1, 144, 28, 28]               0\n",
      "           Conv2d-88           [-1, 40, 28, 28]           5,760\n",
      "      BatchNorm2d-89           [-1, 40, 28, 28]              80\n",
      "           MBConv-90           [-1, 40, 28, 28]               0\n",
      "           Conv2d-91          [-1, 240, 28, 28]           9,600\n",
      "      BatchNorm2d-92          [-1, 240, 28, 28]             480\n",
      "             SiLU-93          [-1, 240, 28, 28]               0\n",
      "           Conv2d-94          [-1, 240, 28, 28]           6,000\n",
      "      BatchNorm2d-95          [-1, 240, 28, 28]             480\n",
      "             SiLU-96          [-1, 240, 28, 28]               0\n",
      "AdaptiveAvgPool2d-97            [-1, 240, 1, 1]               0\n",
      "           Conv2d-98             [-1, 10, 1, 1]           2,410\n",
      "             SiLU-99             [-1, 10, 1, 1]               0\n",
      "          Conv2d-100            [-1, 240, 1, 1]           2,640\n",
      "         Sigmoid-101            [-1, 240, 1, 1]               0\n",
      "SqueezeExcitation-102          [-1, 240, 28, 28]               0\n",
      "          Conv2d-103           [-1, 40, 28, 28]           9,600\n",
      "     BatchNorm2d-104           [-1, 40, 28, 28]              80\n",
      " StochasticDepth-105           [-1, 40, 28, 28]               0\n",
      "          MBConv-106           [-1, 40, 28, 28]               0\n",
      "          Conv2d-107          [-1, 240, 28, 28]           9,600\n",
      "     BatchNorm2d-108          [-1, 240, 28, 28]             480\n",
      "            SiLU-109          [-1, 240, 28, 28]               0\n",
      "          Conv2d-110          [-1, 240, 28, 28]           6,000\n",
      "     BatchNorm2d-111          [-1, 240, 28, 28]             480\n",
      "            SiLU-112          [-1, 240, 28, 28]               0\n",
      "AdaptiveAvgPool2d-113            [-1, 240, 1, 1]               0\n",
      "          Conv2d-114             [-1, 10, 1, 1]           2,410\n",
      "            SiLU-115             [-1, 10, 1, 1]               0\n",
      "          Conv2d-116            [-1, 240, 1, 1]           2,640\n",
      "         Sigmoid-117            [-1, 240, 1, 1]               0\n",
      "SqueezeExcitation-118          [-1, 240, 28, 28]               0\n",
      "          Conv2d-119           [-1, 40, 28, 28]           9,600\n",
      "     BatchNorm2d-120           [-1, 40, 28, 28]              80\n",
      " StochasticDepth-121           [-1, 40, 28, 28]               0\n",
      "          MBConv-122           [-1, 40, 28, 28]               0\n",
      "          Conv2d-123          [-1, 240, 28, 28]           9,600\n",
      "     BatchNorm2d-124          [-1, 240, 28, 28]             480\n",
      "            SiLU-125          [-1, 240, 28, 28]               0\n",
      "          Conv2d-126          [-1, 240, 14, 14]           2,160\n",
      "     BatchNorm2d-127          [-1, 240, 14, 14]             480\n",
      "            SiLU-128          [-1, 240, 14, 14]               0\n",
      "AdaptiveAvgPool2d-129            [-1, 240, 1, 1]               0\n",
      "          Conv2d-130             [-1, 10, 1, 1]           2,410\n",
      "            SiLU-131             [-1, 10, 1, 1]               0\n",
      "          Conv2d-132            [-1, 240, 1, 1]           2,640\n",
      "         Sigmoid-133            [-1, 240, 1, 1]               0\n",
      "SqueezeExcitation-134          [-1, 240, 14, 14]               0\n",
      "          Conv2d-135           [-1, 80, 14, 14]          19,200\n",
      "     BatchNorm2d-136           [-1, 80, 14, 14]             160\n",
      "          MBConv-137           [-1, 80, 14, 14]               0\n",
      "          Conv2d-138          [-1, 480, 14, 14]          38,400\n",
      "     BatchNorm2d-139          [-1, 480, 14, 14]             960\n",
      "            SiLU-140          [-1, 480, 14, 14]               0\n",
      "          Conv2d-141          [-1, 480, 14, 14]           4,320\n",
      "     BatchNorm2d-142          [-1, 480, 14, 14]             960\n",
      "            SiLU-143          [-1, 480, 14, 14]               0\n",
      "AdaptiveAvgPool2d-144            [-1, 480, 1, 1]               0\n",
      "          Conv2d-145             [-1, 20, 1, 1]           9,620\n",
      "            SiLU-146             [-1, 20, 1, 1]               0\n",
      "          Conv2d-147            [-1, 480, 1, 1]          10,080\n",
      "         Sigmoid-148            [-1, 480, 1, 1]               0\n",
      "SqueezeExcitation-149          [-1, 480, 14, 14]               0\n",
      "          Conv2d-150           [-1, 80, 14, 14]          38,400\n",
      "     BatchNorm2d-151           [-1, 80, 14, 14]             160\n",
      " StochasticDepth-152           [-1, 80, 14, 14]               0\n",
      "          MBConv-153           [-1, 80, 14, 14]               0\n",
      "          Conv2d-154          [-1, 480, 14, 14]          38,400\n",
      "     BatchNorm2d-155          [-1, 480, 14, 14]             960\n",
      "            SiLU-156          [-1, 480, 14, 14]               0\n",
      "          Conv2d-157          [-1, 480, 14, 14]           4,320\n",
      "     BatchNorm2d-158          [-1, 480, 14, 14]             960\n",
      "            SiLU-159          [-1, 480, 14, 14]               0\n",
      "AdaptiveAvgPool2d-160            [-1, 480, 1, 1]               0\n",
      "          Conv2d-161             [-1, 20, 1, 1]           9,620\n",
      "            SiLU-162             [-1, 20, 1, 1]               0\n",
      "          Conv2d-163            [-1, 480, 1, 1]          10,080\n",
      "         Sigmoid-164            [-1, 480, 1, 1]               0\n",
      "SqueezeExcitation-165          [-1, 480, 14, 14]               0\n",
      "          Conv2d-166           [-1, 80, 14, 14]          38,400\n",
      "     BatchNorm2d-167           [-1, 80, 14, 14]             160\n",
      " StochasticDepth-168           [-1, 80, 14, 14]               0\n",
      "          MBConv-169           [-1, 80, 14, 14]               0\n",
      "          Conv2d-170          [-1, 480, 14, 14]          38,400\n",
      "     BatchNorm2d-171          [-1, 480, 14, 14]             960\n",
      "            SiLU-172          [-1, 480, 14, 14]               0\n",
      "          Conv2d-173          [-1, 480, 14, 14]           4,320\n",
      "     BatchNorm2d-174          [-1, 480, 14, 14]             960\n",
      "            SiLU-175          [-1, 480, 14, 14]               0\n",
      "AdaptiveAvgPool2d-176            [-1, 480, 1, 1]               0\n",
      "          Conv2d-177             [-1, 20, 1, 1]           9,620\n",
      "            SiLU-178             [-1, 20, 1, 1]               0\n",
      "          Conv2d-179            [-1, 480, 1, 1]          10,080\n",
      "         Sigmoid-180            [-1, 480, 1, 1]               0\n",
      "SqueezeExcitation-181          [-1, 480, 14, 14]               0\n",
      "          Conv2d-182           [-1, 80, 14, 14]          38,400\n",
      "     BatchNorm2d-183           [-1, 80, 14, 14]             160\n",
      " StochasticDepth-184           [-1, 80, 14, 14]               0\n",
      "          MBConv-185           [-1, 80, 14, 14]               0\n",
      "          Conv2d-186          [-1, 480, 14, 14]          38,400\n",
      "     BatchNorm2d-187          [-1, 480, 14, 14]             960\n",
      "            SiLU-188          [-1, 480, 14, 14]               0\n",
      "          Conv2d-189          [-1, 480, 14, 14]          12,000\n",
      "     BatchNorm2d-190          [-1, 480, 14, 14]             960\n",
      "            SiLU-191          [-1, 480, 14, 14]               0\n",
      "AdaptiveAvgPool2d-192            [-1, 480, 1, 1]               0\n",
      "          Conv2d-193             [-1, 20, 1, 1]           9,620\n",
      "            SiLU-194             [-1, 20, 1, 1]               0\n",
      "          Conv2d-195            [-1, 480, 1, 1]          10,080\n",
      "         Sigmoid-196            [-1, 480, 1, 1]               0\n",
      "SqueezeExcitation-197          [-1, 480, 14, 14]               0\n",
      "          Conv2d-198          [-1, 112, 14, 14]          53,760\n",
      "     BatchNorm2d-199          [-1, 112, 14, 14]             224\n",
      "          MBConv-200          [-1, 112, 14, 14]               0\n",
      "          Conv2d-201          [-1, 672, 14, 14]          75,264\n",
      "     BatchNorm2d-202          [-1, 672, 14, 14]           1,344\n",
      "            SiLU-203          [-1, 672, 14, 14]               0\n",
      "          Conv2d-204          [-1, 672, 14, 14]          16,800\n",
      "     BatchNorm2d-205          [-1, 672, 14, 14]           1,344\n",
      "            SiLU-206          [-1, 672, 14, 14]               0\n",
      "AdaptiveAvgPool2d-207            [-1, 672, 1, 1]               0\n",
      "          Conv2d-208             [-1, 28, 1, 1]          18,844\n",
      "            SiLU-209             [-1, 28, 1, 1]               0\n",
      "          Conv2d-210            [-1, 672, 1, 1]          19,488\n",
      "         Sigmoid-211            [-1, 672, 1, 1]               0\n",
      "SqueezeExcitation-212          [-1, 672, 14, 14]               0\n",
      "          Conv2d-213          [-1, 112, 14, 14]          75,264\n",
      "     BatchNorm2d-214          [-1, 112, 14, 14]             224\n",
      " StochasticDepth-215          [-1, 112, 14, 14]               0\n",
      "          MBConv-216          [-1, 112, 14, 14]               0\n",
      "          Conv2d-217          [-1, 672, 14, 14]          75,264\n",
      "     BatchNorm2d-218          [-1, 672, 14, 14]           1,344\n",
      "            SiLU-219          [-1, 672, 14, 14]               0\n",
      "          Conv2d-220          [-1, 672, 14, 14]          16,800\n",
      "     BatchNorm2d-221          [-1, 672, 14, 14]           1,344\n",
      "            SiLU-222          [-1, 672, 14, 14]               0\n",
      "AdaptiveAvgPool2d-223            [-1, 672, 1, 1]               0\n",
      "          Conv2d-224             [-1, 28, 1, 1]          18,844\n",
      "            SiLU-225             [-1, 28, 1, 1]               0\n",
      "          Conv2d-226            [-1, 672, 1, 1]          19,488\n",
      "         Sigmoid-227            [-1, 672, 1, 1]               0\n",
      "SqueezeExcitation-228          [-1, 672, 14, 14]               0\n",
      "          Conv2d-229          [-1, 112, 14, 14]          75,264\n",
      "     BatchNorm2d-230          [-1, 112, 14, 14]             224\n",
      " StochasticDepth-231          [-1, 112, 14, 14]               0\n",
      "          MBConv-232          [-1, 112, 14, 14]               0\n",
      "          Conv2d-233          [-1, 672, 14, 14]          75,264\n",
      "     BatchNorm2d-234          [-1, 672, 14, 14]           1,344\n",
      "            SiLU-235          [-1, 672, 14, 14]               0\n",
      "          Conv2d-236          [-1, 672, 14, 14]          16,800\n",
      "     BatchNorm2d-237          [-1, 672, 14, 14]           1,344\n",
      "            SiLU-238          [-1, 672, 14, 14]               0\n",
      "AdaptiveAvgPool2d-239            [-1, 672, 1, 1]               0\n",
      "          Conv2d-240             [-1, 28, 1, 1]          18,844\n",
      "            SiLU-241             [-1, 28, 1, 1]               0\n",
      "          Conv2d-242            [-1, 672, 1, 1]          19,488\n",
      "         Sigmoid-243            [-1, 672, 1, 1]               0\n",
      "SqueezeExcitation-244          [-1, 672, 14, 14]               0\n",
      "          Conv2d-245          [-1, 112, 14, 14]          75,264\n",
      "     BatchNorm2d-246          [-1, 112, 14, 14]             224\n",
      " StochasticDepth-247          [-1, 112, 14, 14]               0\n",
      "          MBConv-248          [-1, 112, 14, 14]               0\n",
      "          Conv2d-249          [-1, 672, 14, 14]          75,264\n",
      "     BatchNorm2d-250          [-1, 672, 14, 14]           1,344\n",
      "            SiLU-251          [-1, 672, 14, 14]               0\n",
      "          Conv2d-252            [-1, 672, 7, 7]          16,800\n",
      "     BatchNorm2d-253            [-1, 672, 7, 7]           1,344\n",
      "            SiLU-254            [-1, 672, 7, 7]               0\n",
      "AdaptiveAvgPool2d-255            [-1, 672, 1, 1]               0\n",
      "          Conv2d-256             [-1, 28, 1, 1]          18,844\n",
      "            SiLU-257             [-1, 28, 1, 1]               0\n",
      "          Conv2d-258            [-1, 672, 1, 1]          19,488\n",
      "         Sigmoid-259            [-1, 672, 1, 1]               0\n",
      "SqueezeExcitation-260            [-1, 672, 7, 7]               0\n",
      "          Conv2d-261            [-1, 192, 7, 7]         129,024\n",
      "     BatchNorm2d-262            [-1, 192, 7, 7]             384\n",
      "          MBConv-263            [-1, 192, 7, 7]               0\n",
      "          Conv2d-264           [-1, 1152, 7, 7]         221,184\n",
      "     BatchNorm2d-265           [-1, 1152, 7, 7]           2,304\n",
      "            SiLU-266           [-1, 1152, 7, 7]               0\n",
      "          Conv2d-267           [-1, 1152, 7, 7]          28,800\n",
      "     BatchNorm2d-268           [-1, 1152, 7, 7]           2,304\n",
      "            SiLU-269           [-1, 1152, 7, 7]               0\n",
      "AdaptiveAvgPool2d-270           [-1, 1152, 1, 1]               0\n",
      "          Conv2d-271             [-1, 48, 1, 1]          55,344\n",
      "            SiLU-272             [-1, 48, 1, 1]               0\n",
      "          Conv2d-273           [-1, 1152, 1, 1]          56,448\n",
      "         Sigmoid-274           [-1, 1152, 1, 1]               0\n",
      "SqueezeExcitation-275           [-1, 1152, 7, 7]               0\n",
      "          Conv2d-276            [-1, 192, 7, 7]         221,184\n",
      "     BatchNorm2d-277            [-1, 192, 7, 7]             384\n",
      " StochasticDepth-278            [-1, 192, 7, 7]               0\n",
      "          MBConv-279            [-1, 192, 7, 7]               0\n",
      "          Conv2d-280           [-1, 1152, 7, 7]         221,184\n",
      "     BatchNorm2d-281           [-1, 1152, 7, 7]           2,304\n",
      "            SiLU-282           [-1, 1152, 7, 7]               0\n",
      "          Conv2d-283           [-1, 1152, 7, 7]          28,800\n",
      "     BatchNorm2d-284           [-1, 1152, 7, 7]           2,304\n",
      "            SiLU-285           [-1, 1152, 7, 7]               0\n",
      "AdaptiveAvgPool2d-286           [-1, 1152, 1, 1]               0\n",
      "          Conv2d-287             [-1, 48, 1, 1]          55,344\n",
      "            SiLU-288             [-1, 48, 1, 1]               0\n",
      "          Conv2d-289           [-1, 1152, 1, 1]          56,448\n",
      "         Sigmoid-290           [-1, 1152, 1, 1]               0\n",
      "SqueezeExcitation-291           [-1, 1152, 7, 7]               0\n",
      "          Conv2d-292            [-1, 192, 7, 7]         221,184\n",
      "     BatchNorm2d-293            [-1, 192, 7, 7]             384\n",
      " StochasticDepth-294            [-1, 192, 7, 7]               0\n",
      "          MBConv-295            [-1, 192, 7, 7]               0\n",
      "          Conv2d-296           [-1, 1152, 7, 7]         221,184\n",
      "     BatchNorm2d-297           [-1, 1152, 7, 7]           2,304\n",
      "            SiLU-298           [-1, 1152, 7, 7]               0\n",
      "          Conv2d-299           [-1, 1152, 7, 7]          28,800\n",
      "     BatchNorm2d-300           [-1, 1152, 7, 7]           2,304\n",
      "            SiLU-301           [-1, 1152, 7, 7]               0\n",
      "AdaptiveAvgPool2d-302           [-1, 1152, 1, 1]               0\n",
      "          Conv2d-303             [-1, 48, 1, 1]          55,344\n",
      "            SiLU-304             [-1, 48, 1, 1]               0\n",
      "          Conv2d-305           [-1, 1152, 1, 1]          56,448\n",
      "         Sigmoid-306           [-1, 1152, 1, 1]               0\n",
      "SqueezeExcitation-307           [-1, 1152, 7, 7]               0\n",
      "          Conv2d-308            [-1, 192, 7, 7]         221,184\n",
      "     BatchNorm2d-309            [-1, 192, 7, 7]             384\n",
      " StochasticDepth-310            [-1, 192, 7, 7]               0\n",
      "          MBConv-311            [-1, 192, 7, 7]               0\n",
      "          Conv2d-312           [-1, 1152, 7, 7]         221,184\n",
      "     BatchNorm2d-313           [-1, 1152, 7, 7]           2,304\n",
      "            SiLU-314           [-1, 1152, 7, 7]               0\n",
      "          Conv2d-315           [-1, 1152, 7, 7]          28,800\n",
      "     BatchNorm2d-316           [-1, 1152, 7, 7]           2,304\n",
      "            SiLU-317           [-1, 1152, 7, 7]               0\n",
      "AdaptiveAvgPool2d-318           [-1, 1152, 1, 1]               0\n",
      "          Conv2d-319             [-1, 48, 1, 1]          55,344\n",
      "            SiLU-320             [-1, 48, 1, 1]               0\n",
      "          Conv2d-321           [-1, 1152, 1, 1]          56,448\n",
      "         Sigmoid-322           [-1, 1152, 1, 1]               0\n",
      "SqueezeExcitation-323           [-1, 1152, 7, 7]               0\n",
      "          Conv2d-324            [-1, 192, 7, 7]         221,184\n",
      "     BatchNorm2d-325            [-1, 192, 7, 7]             384\n",
      " StochasticDepth-326            [-1, 192, 7, 7]               0\n",
      "          MBConv-327            [-1, 192, 7, 7]               0\n",
      "          Conv2d-328           [-1, 1152, 7, 7]         221,184\n",
      "     BatchNorm2d-329           [-1, 1152, 7, 7]           2,304\n",
      "            SiLU-330           [-1, 1152, 7, 7]               0\n",
      "          Conv2d-331           [-1, 1152, 7, 7]          10,368\n",
      "     BatchNorm2d-332           [-1, 1152, 7, 7]           2,304\n",
      "            SiLU-333           [-1, 1152, 7, 7]               0\n",
      "AdaptiveAvgPool2d-334           [-1, 1152, 1, 1]               0\n",
      "          Conv2d-335             [-1, 48, 1, 1]          55,344\n",
      "            SiLU-336             [-1, 48, 1, 1]               0\n",
      "          Conv2d-337           [-1, 1152, 1, 1]          56,448\n",
      "         Sigmoid-338           [-1, 1152, 1, 1]               0\n",
      "SqueezeExcitation-339           [-1, 1152, 7, 7]               0\n",
      "          Conv2d-340            [-1, 320, 7, 7]         368,640\n",
      "     BatchNorm2d-341            [-1, 320, 7, 7]             640\n",
      "          MBConv-342            [-1, 320, 7, 7]               0\n",
      "          Conv2d-343           [-1, 1920, 7, 7]         614,400\n",
      "     BatchNorm2d-344           [-1, 1920, 7, 7]           3,840\n",
      "            SiLU-345           [-1, 1920, 7, 7]               0\n",
      "          Conv2d-346           [-1, 1920, 7, 7]          17,280\n",
      "     BatchNorm2d-347           [-1, 1920, 7, 7]           3,840\n",
      "            SiLU-348           [-1, 1920, 7, 7]               0\n",
      "AdaptiveAvgPool2d-349           [-1, 1920, 1, 1]               0\n",
      "          Conv2d-350             [-1, 80, 1, 1]         153,680\n",
      "            SiLU-351             [-1, 80, 1, 1]               0\n",
      "          Conv2d-352           [-1, 1920, 1, 1]         155,520\n",
      "         Sigmoid-353           [-1, 1920, 1, 1]               0\n",
      "SqueezeExcitation-354           [-1, 1920, 7, 7]               0\n",
      "          Conv2d-355            [-1, 320, 7, 7]         614,400\n",
      "     BatchNorm2d-356            [-1, 320, 7, 7]             640\n",
      " StochasticDepth-357            [-1, 320, 7, 7]               0\n",
      "          MBConv-358            [-1, 320, 7, 7]               0\n",
      "          Conv2d-359           [-1, 1280, 7, 7]         409,600\n",
      "     BatchNorm2d-360           [-1, 1280, 7, 7]           2,560\n",
      "            SiLU-361           [-1, 1280, 7, 7]               0\n",
      "AdaptiveAvgPool2d-362           [-1, 1280, 1, 1]               0\n",
      "         Flatten-363                 [-1, 1280]               0\n",
      "          Linear-364                  [-1, 100]         128,100\n",
      "================================================================\n",
      "Total params: 6,641,284\n",
      "Trainable params: 6,641,284\n",
      "Non-trainable params: 0\n",
      "----------------------------------------------------------------\n",
      "Input size (MB): 0.57\n",
      "Forward/backward pass size (MB): 245.44\n",
      "Params size (MB): 25.33\n",
      "Estimated Total Size (MB): 271.34\n",
      "----------------------------------------------------------------\n"
     ]
    }
   ],
   "source": [
    "summary(ef1_2, input_size=(3,224,224))"
   ]
  },
  {
   "cell_type": "markdown",
   "id": "OeoWfrDk-Xu0",
   "metadata": {
    "id": "OeoWfrDk-Xu0"
   },
   "source": [
    "## Обучени"
   ]
  },
  {
   "cell_type": "code",
   "execution_count": 9,
   "id": "qbkHSjNiVkRd",
   "metadata": {
    "id": "qbkHSjNiVkRd"
   },
   "outputs": [],
   "source": [
    "optimizer = torch.optim.Adam(ef1_2.parameters(), lr=0.01)\n",
    "criterion = nn.CrossEntropyLoss()"
   ]
  },
  {
   "cell_type": "code",
   "execution_count": 10,
   "id": "Lo5LqUAxW34Z",
   "metadata": {
    "colab": {
     "base_uri": "https://localhost:8080/"
    },
    "id": "Lo5LqUAxW34Z",
    "outputId": "d63ab9c2-3bf7-46fd-ca64-0538678916a3"
   },
   "outputs": [
    {
     "name": "stdout",
     "output_type": "stream",
     "text": [
      "Epoch [1/10]. Step [1/1584]. Loss: 0.153. Acc: 3.333. Test acc: 1.480\n",
      "Epoch [1/10]. Step [301/1584]. Loss: 0.147. Acc: 3.767. Test acc: 0.960\n",
      "Epoch [1/10]. Step [601/1584]. Loss: 0.131. Acc: 8.167. Test acc: 1.120\n",
      "Epoch [1/10]. Step [901/1584]. Loss: 0.123. Acc: 10.856. Test acc: 1.120\n",
      "Epoch [1/10]. Step [1201/1584]. Loss: 0.116. Acc: 14.422. Test acc: 0.440\n",
      "Epoch [1/10]. Step [1501/1584]. Loss: 0.111. Acc: 17.467. Test acc: 1.080\n",
      "Epoch [2/10]. Step [1/1584]. Loss: 0.107. Acc: 23.333. Test acc: 1.080\n",
      "Epoch [2/10]. Step [301/1584]. Loss: 0.105. Acc: 20.833. Test acc: 1.480\n",
      "Epoch [2/10]. Step [601/1584]. Loss: 0.104. Acc: 21.689. Test acc: 1.080\n",
      "Epoch [2/10]. Step [901/1584]. Loss: 0.100. Acc: 23.400. Test acc: 0.760\n",
      "Epoch [2/10]. Step [1201/1584]. Loss: 0.097. Acc: 25.000. Test acc: 1.480\n",
      "Epoch [2/10]. Step [1501/1584]. Loss: 0.095. Acc: 27.578. Test acc: 1.120\n",
      "Epoch [3/10]. Step [1/1584]. Loss: 0.093. Acc: 33.333. Test acc: 1.800\n",
      "Epoch [3/10]. Step [301/1584]. Loss: 0.092. Acc: 28.511. Test acc: 1.120\n",
      "Epoch [3/10]. Step [601/1584]. Loss: 0.088. Acc: 30.967. Test acc: 1.440\n",
      "Epoch [3/10]. Step [901/1584]. Loss: 0.086. Acc: 32.789. Test acc: 1.160\n",
      "Epoch [3/10]. Step [1201/1584]. Loss: 0.086. Acc: 32.433. Test acc: 1.360\n",
      "Epoch [3/10]. Step [1501/1584]. Loss: 0.084. Acc: 34.411. Test acc: 1.600\n",
      "Epoch [4/10]. Step [1/1584]. Loss: 0.069. Acc: 46.667. Test acc: 1.080\n",
      "Epoch [4/10]. Step [301/1584]. Loss: 0.081. Acc: 35.667. Test acc: 1.480\n",
      "Epoch [4/10]. Step [601/1584]. Loss: 0.079. Acc: 37.833. Test acc: 1.240\n",
      "Epoch [4/10]. Step [901/1584]. Loss: 0.077. Acc: 39.244. Test acc: 1.120\n",
      "Epoch [4/10]. Step [1201/1584]. Loss: 0.076. Acc: 38.322. Test acc: 1.120\n",
      "Epoch [4/10]. Step [1501/1584]. Loss: 0.076. Acc: 39.211. Test acc: 1.680\n",
      "Epoch [5/10]. Step [1/1584]. Loss: 0.092. Acc: 20.000. Test acc: 1.120\n",
      "Epoch [5/10]. Step [301/1584]. Loss: 0.072. Acc: 41.622. Test acc: 1.680\n",
      "Epoch [5/10]. Step [601/1584]. Loss: 0.072. Acc: 42.033. Test acc: 1.480\n",
      "Epoch [5/10]. Step [901/1584]. Loss: 0.071. Acc: 42.767. Test acc: 1.440\n",
      "Epoch [5/10]. Step [1201/1584]. Loss: 0.071. Acc: 42.700. Test acc: 1.120\n",
      "Epoch [5/10]. Step [1501/1584]. Loss: 0.070. Acc: 43.711. Test acc: 1.600\n",
      "Epoch [6/10]. Step [1/1584]. Loss: 0.058. Acc: 53.333. Test acc: 1.120\n",
      "Epoch [6/10]. Step [301/1584]. Loss: 0.066. Acc: 45.578. Test acc: 1.240\n",
      "Epoch [6/10]. Step [601/1584]. Loss: 0.066. Acc: 46.411. Test acc: 1.120\n",
      "Epoch [6/10]. Step [901/1584]. Loss: 0.066. Acc: 46.711. Test acc: 1.120\n",
      "Epoch [6/10]. Step [1201/1584]. Loss: 0.066. Acc: 46.989. Test acc: 1.120\n",
      "Epoch [6/10]. Step [1501/1584]. Loss: 0.065. Acc: 46.722. Test acc: 1.480\n",
      "Epoch [7/10]. Step [1/1584]. Loss: 0.050. Acc: 53.333. Test acc: 1.720\n",
      "Epoch [7/10]. Step [301/1584]. Loss: 0.061. Acc: 49.678. Test acc: 2.200\n",
      "Epoch [7/10]. Step [601/1584]. Loss: 0.062. Acc: 49.056. Test acc: 1.120\n",
      "Epoch [7/10]. Step [901/1584]. Loss: 0.062. Acc: 49.489. Test acc: 1.040\n",
      "Epoch [7/10]. Step [1201/1584]. Loss: 0.062. Acc: 48.767. Test acc: 1.120\n",
      "Epoch [7/10]. Step [1501/1584]. Loss: 0.062. Acc: 48.622. Test acc: 1.440\n",
      "Epoch [8/10]. Step [1/1584]. Loss: 0.072. Acc: 43.333. Test acc: 1.280\n",
      "Epoch [8/10]. Step [301/1584]. Loss: 0.058. Acc: 52.067. Test acc: 1.600\n",
      "Epoch [8/10]. Step [601/1584]. Loss: 0.057. Acc: 52.800. Test acc: 2.280\n",
      "Epoch [8/10]. Step [901/1584]. Loss: 0.059. Acc: 51.444. Test acc: 1.720\n",
      "Epoch [8/10]. Step [1201/1584]. Loss: 0.058. Acc: 51.778. Test acc: 2.040\n",
      "Epoch [8/10]. Step [1501/1584]. Loss: 0.058. Acc: 52.189. Test acc: 1.640\n",
      "Epoch [9/10]. Step [1/1584]. Loss: 0.077. Acc: 33.333. Test acc: 1.480\n",
      "Epoch [9/10]. Step [301/1584]. Loss: 0.054. Acc: 54.822. Test acc: 1.560\n",
      "Epoch [9/10]. Step [601/1584]. Loss: 0.055. Acc: 54.233. Test acc: 1.640\n",
      "Epoch [9/10]. Step [901/1584]. Loss: 0.056. Acc: 53.422. Test acc: 1.360\n",
      "Epoch [9/10]. Step [1201/1584]. Loss: 0.056. Acc: 53.900. Test acc: 1.320\n",
      "Epoch [9/10]. Step [1501/1584]. Loss: 0.056. Acc: 53.689. Test acc: 1.080\n",
      "Epoch [10/10]. Step [1/1584]. Loss: 0.051. Acc: 56.667. Test acc: 1.680\n",
      "Epoch [10/10]. Step [301/1584]. Loss: 0.051. Acc: 56.856. Test acc: 1.360\n",
      "Epoch [10/10]. Step [601/1584]. Loss: 0.052. Acc: 55.733. Test acc: 1.440\n",
      "Epoch [10/10]. Step [901/1584]. Loss: 0.053. Acc: 55.378. Test acc: 1.400\n",
      "Epoch [10/10]. Step [1201/1584]. Loss: 0.053. Acc: 55.211. Test acc: 1.280\n",
      "Epoch [10/10]. Step [1501/1584]. Loss: 0.053. Acc: 55.956. Test acc: 1.360\n",
      "Training is finished!\n"
     ]
    }
   ],
   "source": [
    "num_epochs = 10\n",
    "ef1_2.train()\n",
    "\n",
    "for epoch in range(num_epochs):\n",
    "    running_loss, running_items, running_right = 0.0, 0.0, 0.0\n",
    "    for i, data in enumerate(train_loader):\n",
    "        inputs, labels = data[0].to(device), data[1].to(device)\n",
    "\n",
    "        # обнуляем градиент\n",
    "        optimizer.zero_grad()\n",
    "\n",
    "        outputs = ef1_2(inputs)\n",
    "        loss = criterion(outputs, labels)\n",
    "        loss.backward()\n",
    "        optimizer.step()\n",
    "\n",
    "        # выводим статистику о процессе обучения\n",
    "        running_loss += loss.item()\n",
    "        running_items += len(labels)\n",
    "        running_right += (labels == torch.max(outputs, 1)[1]).sum()\n",
    "\n",
    "        # выводим статистику о процессе обучения\n",
    "        if i % 300 == 0:    # печатаем каждые 300 mini-batches\n",
    "            ef1_2.eval()\n",
    "\n",
    "            print(f'Epoch [{epoch + 1}/{num_epochs}]. ' \\\n",
    "                  f'Step [{i + 1}/{len(train_loader)}]. ' \\\n",
    "                  f'Loss: {running_loss / running_items:.3f}. ' \\\n",
    "                  f'Acc: {(running_right / running_items)*100:.3f}', end='. ')\n",
    "            running_loss, running_items, running_right = 0.0, 0.0, 0.0\n",
    "\n",
    "            test_running_right, test_running_total = 0.0, 0.0\n",
    "            for i, data in enumerate(valid_loader):\n",
    "\n",
    "                test_outputs = ef1_2(data[0].to(device))\n",
    "                test_running_total += len(data[1])\n",
    "                test_running_right += (data[1].to(device) == torch.max(test_outputs, 1)[1]).sum()\n",
    "\n",
    "            print(f'Test acc: {(test_running_right / test_running_total)*100:.3f}')\n",
    "\n",
    "        ef1_2.train()\n",
    "\n",
    "print('Training is finished!')"
   ]
  },
  {
   "cell_type": "markdown",
   "id": "1Nu_C4Dp-baw",
   "metadata": {
    "id": "1Nu_C4Dp-baw"
   },
   "source": [
    "## Финальная точность"
   ]
  },
  {
   "cell_type": "code",
   "execution_count": 11,
   "id": "tIRFcl-FmebR",
   "metadata": {
    "colab": {
     "base_uri": "https://localhost:8080/"
    },
    "id": "tIRFcl-FmebR",
    "outputId": "bd2d1403-a713-4953-e56f-cbfba41a12aa"
   },
   "outputs": [
    {
     "name": "stdout",
     "output_type": "stream",
     "text": [
      "The final Test Accuracy of the model: 1.16 %\n"
     ]
    }
   ],
   "source": [
    "ef1_2.eval()\n",
    "with torch.no_grad():\n",
    "    correct = 0\n",
    "    total = 0\n",
    "    for images, labels in valid_loader:\n",
    "        images = images.to(device)\n",
    "        labels = labels.to(device)\n",
    "        outputs = ef1_2(images)\n",
    "        _, predicted = torch.max(outputs.data, 1)\n",
    "        total += labels.size(0)\n",
    "        correct += (predicted == labels).sum().item()\n",
    "\n",
    "    print('The final Test Accuracy of the model: {} %'.format((correct / total) * 100))\n",
    "\n"
   ]
  },
  {
   "cell_type": "markdown",
   "id": "2UhZw9VqXz0j",
   "metadata": {
    "id": "2UhZw9VqXz0j"
   },
   "source": [
    "## Выводы"
   ]
  },
  {
   "cell_type": "markdown",
   "id": "dCalD6SMYu7O",
   "metadata": {
    "id": "dCalD6SMYu7O"
   },
   "source": [
    "Модель resnet34, resnet50 крайне медлено начинали обучение и обычно просто застревали.  Выбраная модель Eficient net b1 с претренированными весами от imagenet показывает более быстрою динамику обучения за счет наличия более лучшей точки входа для обучения часть весов хранящихся в Eficient net b1 более близки к различным локальным минимумам. Однако данная сеть избыточна для задачи в 100 класов с разрешением 32 на 32. Так же сеть слишком склонна к переобучению на данной задаче. В сравнении с сетью созданой в ручную CCN_5, Eficient net b1 быстрее обучается на тренировочной выборке но уровень переобучения сети гороздо выше за счет большей сложности мождели\n",
    "\n"
   ]
  }
 ],
 "metadata": {
  "accelerator": "GPU",
  "colab": {
   "gpuType": "T4",
   "provenance": []
  },
  "kernelspec": {
   "display_name": "Python 3 (ipykernel)",
   "language": "python",
   "name": "python3"
  },
  "language_info": {
   "codemirror_mode": {
    "name": "ipython",
    "version": 3
   },
   "file_extension": ".py",
   "mimetype": "text/x-python",
   "name": "python",
   "nbconvert_exporter": "python",
   "pygments_lexer": "ipython3",
   "version": "3.10.13"
  }
 },
 "nbformat": 4,
 "nbformat_minor": 5
}
