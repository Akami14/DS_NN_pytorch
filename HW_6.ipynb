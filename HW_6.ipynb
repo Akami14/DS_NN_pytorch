{
 "cells": [
  {
   "cell_type": "markdown",
   "metadata": {
    "colab_type": "text",
    "id": "wwAdrrlks_ZJ"
   },
   "source": [
    "# Практика Text classification using CNN"
   ]
  },
  {
   "cell_type": "markdown",
   "metadata": {
    "colab_type": "text",
    "id": "9eHK0K1Lw6nb"
   },
   "source": [
    "## Задача (Sentiment Analysis)\n",
    "\n",
    "Собраны твиты 2-ух тональностей, необходимо произвести классификацию на 2-а класса."
   ]
  },
  {
   "cell_type": "code",
   "execution_count": null,
   "metadata": {},
   "outputs": [],
   "source": [
    "pip install pymorphy3"
   ]
  },
  {
   "cell_type": "code",
   "execution_count": null,
   "metadata": {},
   "outputs": [],
   "source": [
    "pip install nltk"
   ]
  },
  {
   "cell_type": "code",
   "execution_count": null,
   "metadata": {},
   "outputs": [],
   "source": [
    "pip install stop_words"
   ]
  },
  {
   "cell_type": "code",
   "execution_count": 482,
   "metadata": {},
   "outputs": [],
   "source": [
    "from string import punctuation\n",
    "from stop_words import get_stop_words\n",
    "from pymorphy3 import MorphAnalyzer\n",
    "import re\n",
    "import pandas as pd\n",
    "from sklearn.model_selection import train_test_split"
   ]
  },
  {
   "cell_type": "code",
   "execution_count": 483,
   "metadata": {},
   "outputs": [],
   "source": [
    "import nltk\n",
    "from nltk.tokenize import word_tokenize"
   ]
  },
  {
   "cell_type": "code",
   "execution_count": 484,
   "metadata": {
    "colab": {},
    "colab_type": "code",
    "id": "2H5tFUEMCE7d"
   },
   "outputs": [],
   "source": [
    "max_words = 5000\n",
    "max_len = 30\n",
    "num_classes = 1\n",
    "\n",
    "# Training\n",
    "epochs = 40\n",
    "batch_size = 1024\n",
    "print_batch_n = 1024"
   ]
  },
  {
   "cell_type": "code",
   "execution_count": 485,
   "metadata": {
    "colab": {},
    "colab_type": "code",
    "id": "LUCk-5M2yg3S",
    "scrolled": true
   },
   "outputs": [
    {
     "data": {
      "text/html": [
       "<div>\n",
       "<style scoped>\n",
       "    .dataframe tbody tr th:only-of-type {\n",
       "        vertical-align: middle;\n",
       "    }\n",
       "\n",
       "    .dataframe tbody tr th {\n",
       "        vertical-align: top;\n",
       "    }\n",
       "\n",
       "    .dataframe thead th {\n",
       "        text-align: right;\n",
       "    }\n",
       "</style>\n",
       "<table border=\"1\" class=\"dataframe\">\n",
       "  <thead>\n",
       "    <tr style=\"text-align: right;\">\n",
       "      <th></th>\n",
       "      <th>id</th>\n",
       "      <th>label</th>\n",
       "      <th>tweet</th>\n",
       "    </tr>\n",
       "  </thead>\n",
       "  <tbody>\n",
       "    <tr>\n",
       "      <th>0</th>\n",
       "      <td>1</td>\n",
       "      <td>0</td>\n",
       "      <td>@user when a father is dysfunctional and is s...</td>\n",
       "    </tr>\n",
       "    <tr>\n",
       "      <th>1</th>\n",
       "      <td>2</td>\n",
       "      <td>0</td>\n",
       "      <td>@user @user thanks for #lyft credit i can't us...</td>\n",
       "    </tr>\n",
       "    <tr>\n",
       "      <th>2</th>\n",
       "      <td>3</td>\n",
       "      <td>0</td>\n",
       "      <td>bihday your majesty</td>\n",
       "    </tr>\n",
       "    <tr>\n",
       "      <th>3</th>\n",
       "      <td>4</td>\n",
       "      <td>0</td>\n",
       "      <td>#model   i love u take with u all the time in ...</td>\n",
       "    </tr>\n",
       "    <tr>\n",
       "      <th>4</th>\n",
       "      <td>5</td>\n",
       "      <td>0</td>\n",
       "      <td>factsguide: society now    #motivation</td>\n",
       "    </tr>\n",
       "    <tr>\n",
       "      <th>...</th>\n",
       "      <td>...</td>\n",
       "      <td>...</td>\n",
       "      <td>...</td>\n",
       "    </tr>\n",
       "    <tr>\n",
       "      <th>31957</th>\n",
       "      <td>31958</td>\n",
       "      <td>0</td>\n",
       "      <td>ate @user isz that youuu?ðððððð...</td>\n",
       "    </tr>\n",
       "    <tr>\n",
       "      <th>31958</th>\n",
       "      <td>31959</td>\n",
       "      <td>0</td>\n",
       "      <td>to see nina turner on the airwaves trying to...</td>\n",
       "    </tr>\n",
       "    <tr>\n",
       "      <th>31959</th>\n",
       "      <td>31960</td>\n",
       "      <td>0</td>\n",
       "      <td>listening to sad songs on a monday morning otw...</td>\n",
       "    </tr>\n",
       "    <tr>\n",
       "      <th>31960</th>\n",
       "      <td>31961</td>\n",
       "      <td>1</td>\n",
       "      <td>@user #sikh #temple vandalised in in #calgary,...</td>\n",
       "    </tr>\n",
       "    <tr>\n",
       "      <th>31961</th>\n",
       "      <td>31962</td>\n",
       "      <td>0</td>\n",
       "      <td>thank you @user for you follow</td>\n",
       "    </tr>\n",
       "  </tbody>\n",
       "</table>\n",
       "<p>31962 rows × 3 columns</p>\n",
       "</div>"
      ],
      "text/plain": [
       "          id  label                                              tweet\n",
       "0          1      0   @user when a father is dysfunctional and is s...\n",
       "1          2      0  @user @user thanks for #lyft credit i can't us...\n",
       "2          3      0                                bihday your majesty\n",
       "3          4      0  #model   i love u take with u all the time in ...\n",
       "4          5      0             factsguide: society now    #motivation\n",
       "...      ...    ...                                                ...\n",
       "31957  31958      0  ate @user isz that youuu?ðððððð...\n",
       "31958  31959      0    to see nina turner on the airwaves trying to...\n",
       "31959  31960      0  listening to sad songs on a monday morning otw...\n",
       "31960  31961      1  @user #sikh #temple vandalised in in #calgary,...\n",
       "31961  31962      0                   thank you @user for you follow  \n",
       "\n",
       "[31962 rows x 3 columns]"
      ]
     },
     "execution_count": 485,
     "metadata": {},
     "output_type": "execute_result"
    }
   ],
   "source": [
    "df_train = pd.read_csv(\"data/train.csv\")\n",
    "df_train"
   ]
  },
  {
   "cell_type": "code",
   "execution_count": 486,
   "metadata": {},
   "outputs": [],
   "source": [
    "sw = list(set(get_stop_words(\"en\")))\n",
    "extra_sw = ['s','d', 'l', 'i', 'a', 'b', 'c', 'f', 'j', 'k', 'l', 'u',\n",
    "            're', 've', 'll', 'm', 'n', 'p', 'w', 'cant', 'dont', 'retweet', 'tweet', '']\n",
    "sw_ = sw+extra_sw\n",
    "exclude = set(punctuation)\n",
    "morpher = MorphAnalyzer()\n",
    "\n",
    "def preprocess_text(txt):\n",
    "  \n",
    "    txt = str(txt)\n",
    "    \n",
    "    txt = re.sub(r'#\\S+', '', txt) # удалит хештеги  \n",
    "    txt = re.sub(r'@\\S+', '', txt) # удалит упоминани \n",
    "    txt = re.sub(r'\\d', '', txt) # удалит упоминани \n",
    "    txt = re.sub('http\\S+\\s*', '', txt) # удалит URL  \n",
    "    txt = re.sub('RT|cc', '', txt) # удалит RT и cc\n",
    "    txt = re.sub('user', '', txt)\n",
    "    txt = re.sub('[%s]' % re.escape(\"\"\"!\"#$%&'()*+,-./:;<=>?@[\\]^_`{|}~\"\"\"), '', txt) # удалит символы пунктуации\n",
    "    txt = bytes(txt, encoding='utf8')\n",
    "    txt = txt.decode(\"unicode_escape\")\n",
    "    \n",
    "    txt = \"\".join(c for c in txt if c not in exclude)\n",
    "    txt = re.sub('[^A-Za-z0-9]+', ' ', txt)\n",
    "    txt = txt.lower()\n",
    "    txt = re.sub('\\s+', ' ', txt) # заменит пробельные символы на 1 пробел \n",
    "    \n",
    "    txt = [morpher.parse(word)[0].normal_form for word in txt.split() if word not in sw_]\n",
    "    return \" \".join(txt)\n",
    "\n",
    "df_train['tweet'] = df_train['tweet'].apply(preprocess_text)\n"
   ]
  },
  {
   "cell_type": "code",
   "execution_count": 487,
   "metadata": {},
   "outputs": [
    {
     "data": {
      "text/html": [
       "<div>\n",
       "<style scoped>\n",
       "    .dataframe tbody tr th:only-of-type {\n",
       "        vertical-align: middle;\n",
       "    }\n",
       "\n",
       "    .dataframe tbody tr th {\n",
       "        vertical-align: top;\n",
       "    }\n",
       "\n",
       "    .dataframe thead th {\n",
       "        text-align: right;\n",
       "    }\n",
       "</style>\n",
       "<table border=\"1\" class=\"dataframe\">\n",
       "  <thead>\n",
       "    <tr style=\"text-align: right;\">\n",
       "      <th></th>\n",
       "      <th>id</th>\n",
       "      <th>label</th>\n",
       "      <th>tweet</th>\n",
       "    </tr>\n",
       "  </thead>\n",
       "  <tbody>\n",
       "    <tr>\n",
       "      <th>0</th>\n",
       "      <td>1</td>\n",
       "      <td>0</td>\n",
       "      <td>father dysfunctional selfish drags kids dysfun...</td>\n",
       "    </tr>\n",
       "    <tr>\n",
       "      <th>1</th>\n",
       "      <td>2</td>\n",
       "      <td>0</td>\n",
       "      <td>thanks credit use cause offer wheelchair vans pdx</td>\n",
       "    </tr>\n",
       "    <tr>\n",
       "      <th>2</th>\n",
       "      <td>3</td>\n",
       "      <td>0</td>\n",
       "      <td>bihday majesty</td>\n",
       "    </tr>\n",
       "    <tr>\n",
       "      <th>3</th>\n",
       "      <td>4</td>\n",
       "      <td>0</td>\n",
       "      <td>love take time ur</td>\n",
       "    </tr>\n",
       "    <tr>\n",
       "      <th>4</th>\n",
       "      <td>5</td>\n",
       "      <td>0</td>\n",
       "      <td>factsguide society now</td>\n",
       "    </tr>\n",
       "    <tr>\n",
       "      <th>...</th>\n",
       "      <td>...</td>\n",
       "      <td>...</td>\n",
       "      <td>...</td>\n",
       "    </tr>\n",
       "    <tr>\n",
       "      <th>31957</th>\n",
       "      <td>31958</td>\n",
       "      <td>0</td>\n",
       "      <td>ate isz youuu</td>\n",
       "    </tr>\n",
       "    <tr>\n",
       "      <th>31958</th>\n",
       "      <td>31959</td>\n",
       "      <td>0</td>\n",
       "      <td>see nina turner airwaves trying wrap mantle ge...</td>\n",
       "    </tr>\n",
       "    <tr>\n",
       "      <th>31959</th>\n",
       "      <td>31960</td>\n",
       "      <td>0</td>\n",
       "      <td>listening sad songs monday morning otw work sad</td>\n",
       "    </tr>\n",
       "    <tr>\n",
       "      <th>31960</th>\n",
       "      <td>31961</td>\n",
       "      <td>1</td>\n",
       "      <td>vandalised condemns act</td>\n",
       "    </tr>\n",
       "    <tr>\n",
       "      <th>31961</th>\n",
       "      <td>31962</td>\n",
       "      <td>0</td>\n",
       "      <td>thank follow</td>\n",
       "    </tr>\n",
       "  </tbody>\n",
       "</table>\n",
       "<p>31962 rows × 3 columns</p>\n",
       "</div>"
      ],
      "text/plain": [
       "          id  label                                              tweet\n",
       "0          1      0  father dysfunctional selfish drags kids dysfun...\n",
       "1          2      0  thanks credit use cause offer wheelchair vans pdx\n",
       "2          3      0                                     bihday majesty\n",
       "3          4      0                                  love take time ur\n",
       "4          5      0                             factsguide society now\n",
       "...      ...    ...                                                ...\n",
       "31957  31958      0                                      ate isz youuu\n",
       "31958  31959      0  see nina turner airwaves trying wrap mantle ge...\n",
       "31959  31960      0    listening sad songs monday morning otw work sad\n",
       "31960  31961      1                            vandalised condemns act\n",
       "31961  31962      0                                       thank follow\n",
       "\n",
       "[31962 rows x 3 columns]"
      ]
     },
     "execution_count": 487,
     "metadata": {},
     "output_type": "execute_result"
    }
   ],
   "source": [
    "df_train"
   ]
  },
  {
   "cell_type": "code",
   "execution_count": 488,
   "metadata": {
    "colab": {},
    "colab_type": "code",
    "id": "C4o9QgmWI3Pw"
   },
   "outputs": [],
   "source": [
    "train_corpus = \" \".join(df_train[\"tweet\"])\n",
    "train_corpus = train_corpus.lower()"
   ]
  },
  {
   "cell_type": "code",
   "execution_count": 489,
   "metadata": {},
   "outputs": [
    {
     "data": {
      "text/plain": [
       "'father dysfunctional selfish drags kids dysfunction thanks credit use cause offer wheelchair vans pdx bihday majesty love take time ur factsguide society now huge fan fare big talking leave chaos pay disputes get camping tomorrow danny next school year year exams think won love land welcome im consumer price index mom climbed previous may selfish get see daddy today calls middle school build wall chant comment ouchjunior angry thankful paner agree smiles around via ig make people know essential oils made chemicals people blaming ha conceded goal fat rooney gave away free kick knowing bale can hit sad little dude product day happy man tool whos time open amp drink lumpy says prove lumpy  beautiful sign vendor sunday love great panel mediatization public service happy fathers day people went nightclub good night mans actions means people lost families forever never chance vote presidential'"
      ]
     },
     "execution_count": 489,
     "metadata": {},
     "output_type": "execute_result"
    }
   ],
   "source": [
    "train_corpus[:900]"
   ]
  },
  {
   "cell_type": "markdown",
   "metadata": {},
   "source": [
    "## Токенезируем все слова (присвоем индекс)"
   ]
  },
  {
   "cell_type": "code",
   "execution_count": 490,
   "metadata": {},
   "outputs": [
    {
     "name": "stderr",
     "output_type": "stream",
     "text": [
      "[nltk_data] Downloading package punkt to\n",
      "[nltk_data]     C:\\Users\\PC\\AppData\\Roaming\\nltk_data...\n",
      "[nltk_data]   Package punkt is already up-to-date!\n"
     ]
    },
    {
     "data": {
      "text/plain": [
       "True"
      ]
     },
     "execution_count": 490,
     "metadata": {},
     "output_type": "execute_result"
    }
   ],
   "source": [
    "import nltk\n",
    "from nltk.tokenize import word_tokenize\n",
    "nltk.download(\"punkt\")"
   ]
  },
  {
   "cell_type": "code",
   "execution_count": 491,
   "metadata": {
    "colab": {
     "base_uri": "https://localhost:8080/",
     "height": 51
    },
    "colab_type": "code",
    "executionInfo": {
     "elapsed": 10183,
     "status": "ok",
     "timestamp": 1590650264825,
     "user": {
      "displayName": "Roman Zakharov",
      "photoUrl": "",
      "userId": "18255168926005506833"
     },
     "user_tz": -240
    },
    "id": "Hed2ySbwJH6B",
    "outputId": "66a75988-b4e3-45aa-a483-adbdc766db03"
   },
   "outputs": [],
   "source": [
    "tokens = word_tokenize(train_corpus) #подали весь имеющийся текс"
   ]
  },
  {
   "cell_type": "code",
   "execution_count": 492,
   "metadata": {},
   "outputs": [
    {
     "data": {
      "text/plain": [
       "['father',\n",
       " 'dysfunctional',\n",
       " 'selfish',\n",
       " 'drags',\n",
       " 'kids',\n",
       " 'dysfunction',\n",
       " 'thanks',\n",
       " 'credit',\n",
       " 'use']"
      ]
     },
     "execution_count": 492,
     "metadata": {},
     "output_type": "execute_result"
    }
   ],
   "source": [
    "tokens[:9]"
   ]
  },
  {
   "cell_type": "code",
   "execution_count": 493,
   "metadata": {
    "colab": {},
    "colab_type": "code",
    "id": "EXOLVK1tJLT8"
   },
   "outputs": [
    {
     "data": {
      "text/plain": [
       "['father', 'dysfunctional', 'selfish', 'drags']"
      ]
     },
     "execution_count": 493,
     "metadata": {},
     "output_type": "execute_result"
    }
   ],
   "source": [
    "tokens_filtered = [word for word in tokens if word.isalnum()] # фильтрация по словам из букв\n",
    "tokens_filtered[:4]"
   ]
  },
  {
   "cell_type": "code",
   "execution_count": 494,
   "metadata": {
    "colab": {},
    "colab_type": "code",
    "id": "8qCQH5nIJoiB"
   },
   "outputs": [],
   "source": [
    "from nltk.probability import FreqDist\n",
    "dist = FreqDist(tokens_filtered)\n",
    "tokens_filtered_top = [pair[0] for pair in dist.most_common(max_words-1)] #фильтр по популярности слова"
   ]
  },
  {
   "cell_type": "code",
   "execution_count": 495,
   "metadata": {
    "colab": {
     "base_uri": "https://localhost:8080/",
     "height": 340
    },
    "colab_type": "code",
    "executionInfo": {
     "elapsed": 576,
     "status": "ok",
     "timestamp": 1590650396521,
     "user": {
      "displayName": "Roman Zakharov",
      "photoUrl": "",
      "userId": "18255168926005506833"
     },
     "user_tz": -240
    },
    "id": "bRQ-6wwjJrGo",
    "outputId": "ba8ebf9e-c6aa-4703-b54f-39b561e33493"
   },
   "outputs": [
    {
     "data": {
      "text/plain": [
       "['day', 'amp', 'happy', 'just', 'will', 'love', 'im', 'time', 'now', 'like']"
      ]
     },
     "execution_count": 495,
     "metadata": {},
     "output_type": "execute_result"
    }
   ],
   "source": [
    "tokens_filtered_top[:10]"
   ]
  },
  {
   "cell_type": "code",
   "execution_count": 496,
   "metadata": {
    "colab": {},
    "colab_type": "code",
    "id": "Tdk777qGJtz4"
   },
   "outputs": [
    {
     "name": "stdout",
     "output_type": "stream",
     "text": [
      "day 1\n",
      "amp 2\n",
      "happy 3\n",
      "just 4\n",
      "will 5\n",
      "love 6\n",
      "im 7\n",
      "time 8\n",
      "now 9\n",
      "like 10\n",
      "today 11\n"
     ]
    }
   ],
   "source": [
    "vocabulary = {v: k for k, v in dict(enumerate(tokens_filtered_top, 1)).items()} # пронумерованые в соответсвии популяярности слова\n",
    "  \n",
    "for i, (k,v) in enumerate(vocabulary.items()):\n",
    "    print(k,v)\n",
    "    if i >= 10:\n",
    "        break\n"
   ]
  },
  {
   "cell_type": "code",
   "execution_count": 497,
   "metadata": {
    "colab": {},
    "colab_type": "code",
    "id": "5OULZgvkJzpj"
   },
   "outputs": [],
   "source": [
    "import numpy as np\n",
    "# эмбединг декодирующий твит в вектор длиной maxlen\n",
    "def text_to_sequence(text, maxlen):\n",
    "    result = []\n",
    "    tokens = word_tokenize(text.lower())\n",
    "    tokens_filtered = [word for word in tokens if word.isalnum()]\n",
    "    for word in tokens_filtered:\n",
    "        if word in vocabulary:\n",
    "            result.append(vocabulary[word])\n",
    "    padding = [0]*(maxlen-len(result))\n",
    "    return padding + result[-maxlen:]"
   ]
  },
  {
   "cell_type": "markdown",
   "metadata": {},
   "source": [
    "## Разделение на тест и трейн и обучение модели"
   ]
  },
  {
   "cell_type": "code",
   "execution_count": 498,
   "metadata": {},
   "outputs": [],
   "source": [
    "X_train, X_test = train_test_split(df_train, test_size=0.35,random_state=14)"
   ]
  },
  {
   "cell_type": "code",
   "execution_count": 499,
   "metadata": {
    "colab": {},
    "colab_type": "code",
    "id": "pqHlf5nNJ2hl"
   },
   "outputs": [],
   "source": [
    "x_train = np.asarray([text_to_sequence(text, max_len) for text in X_train[\"tweet\"]], dtype=np.int32)\n",
    "x_test = np.asarray([text_to_sequence(text, max_len) for text in X_test[\"tweet\"]], dtype=np.int32)"
   ]
  },
  {
   "cell_type": "code",
   "execution_count": 500,
   "metadata": {
    "colab": {
     "base_uri": "https://localhost:8080/",
     "height": 34
    },
    "colab_type": "code",
    "executionInfo": {
     "elapsed": 562,
     "status": "ok",
     "timestamp": 1590650625870,
     "user": {
      "displayName": "Roman Zakharov",
      "photoUrl": "",
      "userId": "18255168926005506833"
     },
     "user_tz": -240
    },
    "id": "lI4NUg_TJ6NK",
    "outputId": "5d29285d-6c2e-4c34-f307-c2e9c3c12631"
   },
   "outputs": [
    {
     "data": {
      "text/plain": [
       "((20775, 30), (11187, 30))"
      ]
     },
     "execution_count": 500,
     "metadata": {},
     "output_type": "execute_result"
    }
   ],
   "source": [
    "x_train.shape, x_test.shape"
   ]
  },
  {
   "cell_type": "code",
   "execution_count": 501,
   "metadata": {
    "colab": {
     "base_uri": "https://localhost:8080/",
     "height": 170
    },
    "colab_type": "code",
    "executionInfo": {
     "elapsed": 643,
     "status": "ok",
     "timestamp": 1590650628713,
     "user": {
      "displayName": "Roman Zakharov",
      "photoUrl": "",
      "userId": "18255168926005506833"
     },
     "user_tz": -240
    },
    "id": "9QlLvXd9KDf3",
    "outputId": "0355c6dc-b479-4031-bf7d-54f158607906"
   },
   "outputs": [
    {
     "data": {
      "text/plain": [
       "array([   0,    0,    0,    0,    0,    0,    0,    0,    0,    0,    0,\n",
       "          0,    0,    0,    0,    0,    0,    0,    0,    0,    0,    0,\n",
       "        839,  100, 3912,  421,   68, 2217, 4842,  341])"
      ]
     },
     "execution_count": 501,
     "metadata": {},
     "output_type": "execute_result"
    }
   ],
   "source": [
    "x_train[79] # 0 "
   ]
  },
  {
   "cell_type": "code",
   "execution_count": 502,
   "metadata": {
    "colab": {},
    "colab_type": "code",
    "id": "LKaht9EJKYHB"
   },
   "outputs": [],
   "source": [
    "import random\n",
    "import torch\n",
    "import torch.nn as nn\n",
    "\n",
    "seed = 99\n",
    "\n",
    "random.seed(seed)\n",
    "np.random.seed(seed)\n",
    "torch.manual_seed(seed)\n",
    "torch.cuda.manual_seed(seed)\n",
    "torch.backends.cudnn.deterministic = True\n"
   ]
  },
  {
   "cell_type": "code",
   "execution_count": 503,
   "metadata": {
    "colab": {},
    "colab_type": "code",
    "id": "Ynw9XOZNK4Wp"
   },
   "outputs": [],
   "source": [
    "class Net(nn.Module):\n",
    "    def __init__(self, vocab_size=50, embedding_dim = 120, out_channel = 240, num_classes = 1):\n",
    "        super().__init__()\n",
    "        self.embedding = nn.Embedding(vocab_size, embedding_dim)\n",
    "        self.conv = nn.Conv1d(embedding_dim, out_channel, kernel_size=3)\n",
    "        self.drop = nn.Dropout1d(0.44)\n",
    "        self.relu = nn.ReLU()\n",
    "        self.linear = nn.Linear(out_channel, num_classes)\n",
    "        \n",
    "    def forward(self, x):        \n",
    "        output = self.embedding(x)\n",
    "        #                       B  F  L         \n",
    "        output = output.permute(0, 2, 1)\n",
    "        output = self.conv(output)\n",
    "        output = self.drop(output)\n",
    "        output = self.relu(output)\n",
    "        output = torch.max(output, axis=2).values\n",
    "        output = self.linear(output)\n",
    "        \n",
    "        return output"
   ]
  },
  {
   "cell_type": "code",
   "execution_count": 504,
   "metadata": {
    "colab": {},
    "colab_type": "code",
    "id": "PhwK7yLAK8b0"
   },
   "outputs": [],
   "source": [
    "from torch.utils.data import DataLoader, Dataset\n",
    "\n",
    "class DataWrapper(Dataset):\n",
    "    def __init__(self, data, target=None, transform=None):\n",
    "        self.data = torch.from_numpy(data).long()\n",
    "        if target is not None:\n",
    "            self.target = torch.from_numpy(target).long()\n",
    "        self.transform = transform\n",
    "        \n",
    "    def __getitem__(self, index):\n",
    "        x = self.data[index]\n",
    "        y = self.target[index] if self.target is not None else None\n",
    "        \n",
    "        if self.transform:\n",
    "            x = self.transform(x)\n",
    "            \n",
    "        return x, y\n",
    "    \n",
    "    def __len__(self):\n",
    "        return len(self.data)"
   ]
  },
  {
   "cell_type": "code",
   "execution_count": 505,
   "metadata": {},
   "outputs": [
    {
     "data": {
      "text/plain": [
       "device(type='cuda', index=0)"
      ]
     },
     "execution_count": 505,
     "metadata": {},
     "output_type": "execute_result"
    }
   ],
   "source": [
    "device=torch.device(\"cuda:0\" if torch.cuda.is_available() else \"cpu\") \n",
    "device"
   ]
  },
  {
   "cell_type": "code",
   "execution_count": 506,
   "metadata": {
    "scrolled": false
   },
   "outputs": [
    {
     "name": "stdout",
     "output_type": "stream",
     "text": [
      "Net(\n",
      "  (embedding): Embedding(5000, 120)\n",
      "  (conv): Conv1d(120, 240, kernel_size=(3,), stride=(1,))\n",
      "  (drop): Dropout1d(p=0.44, inplace=False)\n",
      "  (relu): ReLU()\n",
      "  (linear): Linear(in_features=240, out_features=1, bias=True)\n",
      ")\n",
      "Parameters: 686881\n",
      "Train epoch 1/40\n",
      "Step 0: loss=0.46668756008148193\n",
      "Step 0: Vall loss=0.28938210010528564\n",
      "Train epoch 2/40\n",
      "Step 0: loss=0.273736834526062\n",
      "Step 0: Vall loss=0.24922405183315277\n",
      "Train epoch 3/40\n",
      "Step 0: loss=0.2508529722690582\n",
      "Step 0: Vall loss=0.26869598031044006\n",
      "Train epoch 4/40\n",
      "Step 0: loss=0.27516594529151917\n",
      "Step 0: Vall loss=0.2597741186618805\n",
      "Train epoch 5/40\n",
      "Step 0: loss=0.2633291482925415\n",
      "Step 0: Vall loss=0.2545974850654602\n",
      "Train epoch 6/40\n",
      "Step 0: loss=0.27831941843032837\n",
      "Step 0: Vall loss=0.2546938955783844\n",
      "Train epoch 7/40\n",
      "Step 0: loss=0.27365583181381226\n",
      "Step 0: Vall loss=0.23598645627498627\n",
      "Train epoch 8/40\n",
      "Step 0: loss=0.2433881014585495\n",
      "Step 0: Vall loss=0.2099786400794983\n",
      "Train epoch 9/40\n",
      "Step 0: loss=0.22606751322746277\n",
      "Step 0: Vall loss=0.235752135515213\n",
      "Train epoch 10/40\n",
      "Step 0: loss=0.2581613063812256\n",
      "Step 0: Vall loss=0.2688543200492859\n",
      "Train epoch 11/40\n",
      "Step 0: loss=0.23587241768836975\n",
      "Step 0: Vall loss=0.21704594790935516\n",
      "Train epoch 12/40\n",
      "Step 0: loss=0.214478000998497\n",
      "Step 0: Vall loss=0.23006601631641388\n",
      "Train epoch 13/40\n",
      "Step 0: loss=0.21754798293113708\n",
      "Step 0: Vall loss=0.20671308040618896\n",
      "Train epoch 14/40\n",
      "Step 0: loss=0.22660031914710999\n",
      "Step 0: Vall loss=0.21121501922607422\n",
      "Train epoch 15/40\n",
      "Step 0: loss=0.22559136152267456\n",
      "Step 0: Vall loss=0.23538537323474884\n",
      "Train epoch 16/40\n",
      "Step 0: loss=0.2464314103126526\n",
      "Step 0: Vall loss=0.21232429146766663\n",
      "Train epoch 17/40\n",
      "Step 0: loss=0.23308834433555603\n",
      "Step 0: Vall loss=0.21265317499637604\n",
      "Train epoch 18/40\n",
      "Step 0: loss=0.2218441665172577\n",
      "Step 0: Vall loss=0.21023306250572205\n",
      "Train epoch 19/40\n",
      "Step 0: loss=0.2067415714263916\n",
      "Step 0: Vall loss=0.23956331610679626\n",
      "Train epoch 20/40\n",
      "Step 0: loss=0.20378878712654114\n",
      "Step 0: Vall loss=0.23866860568523407\n",
      "Train epoch 21/40\n",
      "Step 0: loss=0.21506951749324799\n",
      "Step 0: Vall loss=0.23718170821666718\n",
      "Train epoch 22/40\n",
      "Step 0: loss=0.2243902087211609\n",
      "Step 0: Vall loss=0.20630230009555817\n",
      "Train epoch 23/40\n",
      "Step 0: loss=0.1864238679409027\n",
      "Step 0: Vall loss=0.20455217361450195\n",
      "Train epoch 24/40\n",
      "Step 0: loss=0.1915290355682373\n",
      "Step 0: Vall loss=0.19877903163433075\n",
      "Train epoch 25/40\n",
      "Step 0: loss=0.19074547290802002\n",
      "Step 0: Vall loss=0.20375466346740723\n",
      "Train epoch 26/40\n",
      "Step 0: loss=0.18692713975906372\n",
      "Step 0: Vall loss=0.18161945044994354\n",
      "Train epoch 27/40\n",
      "Step 0: loss=0.20605581998825073\n",
      "Step 0: Vall loss=0.18979626893997192\n",
      "Train epoch 28/40\n",
      "Step 0: loss=0.19286078214645386\n",
      "Step 0: Vall loss=0.2319427728652954\n",
      "Train epoch 29/40\n",
      "Step 0: loss=0.1837294101715088\n",
      "Step 0: Vall loss=0.24009837210178375\n",
      "Train epoch 30/40\n",
      "Step 0: loss=0.19492888450622559\n",
      "Step 0: Vall loss=0.2101263552904129\n",
      "Train epoch 31/40\n",
      "Step 0: loss=0.18896940350532532\n",
      "Step 0: Vall loss=0.20331695675849915\n",
      "Train epoch 32/40\n",
      "Step 0: loss=0.17032277584075928\n",
      "Step 0: Vall loss=0.22887688875198364\n",
      "Train epoch 33/40\n",
      "Step 0: loss=0.15850724279880524\n",
      "Step 0: Vall loss=0.1974720060825348\n",
      "Train epoch 34/40\n",
      "Step 0: loss=0.1776784509420395\n",
      "Step 0: Vall loss=0.20868241786956787\n",
      "Train epoch 35/40\n",
      "Step 0: loss=0.18393030762672424\n",
      "Step 0: Vall loss=0.19460028409957886\n",
      "Train epoch 36/40\n",
      "Step 0: loss=0.16100065410137177\n",
      "Step 0: Vall loss=0.1923832893371582\n",
      "Train epoch 37/40\n",
      "Step 0: loss=0.16386741399765015\n",
      "Step 0: Vall loss=0.1942211091518402\n",
      "Train epoch 38/40\n",
      "Step 0: loss=0.15861214697360992\n",
      "Step 0: Vall loss=0.1854134500026703\n",
      "Train epoch 39/40\n",
      "Step 0: loss=0.18440347909927368\n",
      "Step 0: Vall loss=0.21872013807296753\n",
      "Train epoch 40/40\n",
      "Step 0: loss=0.1436311900615692\n",
      "Step 0: Vall loss=0.17945922911167145\n"
     ]
    }
   ],
   "source": [
    "model = Net(vocab_size=max_words)\n",
    "\n",
    "print(model)\n",
    "print(\"Parameters:\", sum([param.nelement() for param in model.parameters()]))\n",
    "\n",
    "model.train()\n",
    "model = model.to(device)\n",
    "\n",
    "optimizer = torch.optim.NAdam(model.parameters(), lr=10e-5)\n",
    "criterion = nn.BCEWithLogitsLoss()\n",
    "\n",
    "    \n",
    "train_dataset = DataWrapper(x_train, X_train['label'].values)\n",
    "train_loader = DataLoader(train_dataset, batch_size=batch_size, shuffle=True)\n",
    "\n",
    "test_dataset = DataWrapper(x_test, X_test['label'].values)\n",
    "test_loader = DataLoader(test_dataset, batch_size=batch_size, shuffle=True)\n",
    "\n",
    "loss_history = []\n",
    "test_loss_history = []\n",
    "acc_train = []\n",
    "acc_test = []\n",
    "\n",
    "for epoch in range(1, epochs + 1):\n",
    "    print(f\"Train epoch {epoch}/{epochs}\")\n",
    "    correct = 0\n",
    "    correct_val = 0\n",
    "    for i, (data, target) in enumerate(train_loader):\n",
    "        optimizer.zero_grad()\n",
    "        \n",
    "        data = data.to(device)\n",
    "        target = target.to(device)\n",
    "        # compute output\n",
    "        output = model(data)\n",
    "        \n",
    "        # compute gradient and do SGD step\n",
    "        loss = criterion(output, target.float().view(-1, 1))\n",
    "        loss.backward()\n",
    "        \n",
    "        optimizer.step()\n",
    "        \n",
    "        \n",
    "        if i%print_batch_n == 0:\n",
    "            _,preds=torch.max(output,1) \n",
    "            loss = loss.item()\n",
    "            correct += torch.sum(preds==target.data).float()\n",
    "            \n",
    "    \n",
    "            \n",
    "            acc = correct.float()/batch_size\n",
    "\n",
    "            print(\"Step {}: loss={}\".format(i, loss))\n",
    "            loss_history.append(loss)\n",
    "            acc_test.append(acc)\n",
    "            \n",
    "    else:\n",
    "        with torch.no_grad(): #проверка вал данных не используем при этом пересчет градиента\n",
    "            for i, (data_v, target_v) in enumerate(test_loader): \n",
    "                \n",
    "                data_v = data_v.to(device)\n",
    "                target_v = target_v.to(device)\n",
    "                \n",
    "                output_v = model(data_v)  \n",
    "                    \n",
    "                v_loss = criterion(output_v, target_v.float().view(-1, 1))\n",
    "                    \n",
    "                if i%print_batch_n == 0:\n",
    "                    _,preds_v=torch.max(output_v,1)\n",
    "                    v_loss = v_loss.item()\n",
    "                    correct_val += torch.sum(preds_v==target_v.data)\n",
    "                    acc_val = correct_val.float()/batch_size\n",
    "                    print(\"Step {}: Vall loss={}\".format(i, v_loss))\n",
    "                    test_loss_history.append(v_loss)\n",
    "                    acc_test.append(acc_val)"
   ]
  },
  {
   "cell_type": "code",
   "execution_count": 507,
   "metadata": {},
   "outputs": [
    {
     "data": {
      "image/png": "[encoded data removed]",
      "text/plain": [
       "<Figure size 640x480 with 1 Axes>"
      ]
     },
     "metadata": {},
     "output_type": "display_data"
    }
   ],
   "source": [
    "import matplotlib.pyplot as plt\n",
    "\n",
    "plt.title('Loss history')\n",
    "plt.grid(True)\n",
    "plt.ylabel('Train loss')\n",
    "plt.xlabel('Step')\n",
    "plt.plot(loss_history, label = 'Train loss')\n",
    "plt.plot(test_loss_history, label = 'Vall loss')\n",
    "plt.legend();"
   ]
  },
  {
   "cell_type": "markdown",
   "metadata": {},
   "source": [
    "## Точность на тесте"
   ]
  },
  {
   "cell_type": "code",
   "execution_count": 480,
   "metadata": {},
   "outputs": [
    {
     "name": "stdout",
     "output_type": "stream",
     "text": [
      "The final Test Accuracy of the model: 93.31366764995084 %\n"
     ]
    }
   ],
   "source": [
    "model.eval()\n",
    "with torch.no_grad():\n",
    "    correct = 0\n",
    "    total = 0\n",
    "    for data, labels in test_loader:\n",
    "        data = data.to(device)\n",
    "        labels = labels.to(device)\n",
    "        outputs = model(data)\n",
    "        _, predicted = torch.max(outputs.data, 1)\n",
    "        total += labels.size(0)\n",
    "        correct += (predicted == labels).sum().item()\n",
    "\n",
    "    print('The final Test Accuracy of the model: {} %'.format((correct / total) * 100))"
   ]
  },
  {
   "cell_type": "markdown",
   "metadata": {},
   "source": [
    "## Точность на тесте"
   ]
  },
  {
   "cell_type": "code",
   "execution_count": 481,
   "metadata": {},
   "outputs": [
    {
     "name": "stdout",
     "output_type": "stream",
     "text": [
      "The final Test Accuracy of the model: 92.8086642599278 %\n"
     ]
    }
   ],
   "source": [
    "model.eval()\n",
    "with torch.no_grad():\n",
    "    correct = 0\n",
    "    total = 0\n",
    "    for data, labels in train_loader:\n",
    "        data = data.to(device)\n",
    "        labels = labels.to(device)\n",
    "        outputs = model(data)\n",
    "        _, predicted = torch.max(outputs.data, 1)\n",
    "        total += labels.size(0)\n",
    "        correct += (predicted == labels).sum().item()\n",
    "\n",
    "    print('The final Test Accuracy of the model: {} %'.format((correct / total) * 100))"
   ]
  },
  {
   "cell_type": "markdown",
   "metadata": {},
   "source": [
    "#  Выводы\n",
    "* Подобрана скорость обучения, а так же количество нейронов в дропаут слое позваляющие снизить переобучение\n",
    "* Увеличение  maxlen определяющие длину вектора сильно на точность не повлияло оптимальные результаты получаются при значении 20-50\n",
    "* В качестве препроцесинга были удалены теги, имена пользователей, символы не входящие в число буквеных обозначений (смайлики, битая кодировка и прочее) так же были удалены слова из 1 буквы и некоторые из 2х. \n",
    "* Препроцесинг в целом можно продолжать и удалить слова не дающие особой смыловой нагрузки такие как - can must, have, try, see etc."
   ]
  }
 ],
 "metadata": {
  "colab": {
   "collapsed_sections": [],
   "name": "dl-nlp-cnn1.ipynb",
   "provenance": []
  },
  "kernelspec": {
   "display_name": "Python 3 (ipykernel)",
   "language": "python",
   "name": "python3"
  },
  "language_info": {
   "codemirror_mode": {
    "name": "ipython",
    "version": 3
   },
   "file_extension": ".py",
   "mimetype": "text/x-python",
   "name": "python",
   "nbconvert_exporter": "python",
   "pygments_lexer": "ipython3",
   "version": "3.10.13"
  }
 },
 "nbformat": 4,
 "nbformat_minor": 1
}
